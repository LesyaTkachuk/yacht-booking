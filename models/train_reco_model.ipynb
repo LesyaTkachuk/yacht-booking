{
 "cells": [
  {
   "cell_type": "code",
   "execution_count": 1,
   "id": "8aa80866",
   "metadata": {},
   "outputs": [],
   "source": [
    "import os\n",
    "import json\n",
    "import pickle\n",
    "import numpy as np\n",
    "import pandas as pd\n",
    "from datetime import datetime, timezone"
   ]
  },
  {
   "cell_type": "code",
   "execution_count": 2,
   "id": "b4006584",
   "metadata": {},
   "outputs": [],
   "source": [
    "from sqlalchemy import create_engine, text, bindparam\n",
    "from sqlalchemy.dialects.postgresql import UUID, ARRAY\n",
    "from dotenv import load_dotenv\n",
    "from surprise import Dataset, Reader, SVD, SVDpp, accuracy\n",
    "from surprise.model_selection import train_test_split"
   ]
  },
  {
   "cell_type": "code",
   "execution_count": 3,
   "id": "3628a766",
   "metadata": {},
   "outputs": [
    {
     "data": {
      "text/plain": [
       "True"
      ]
     },
     "execution_count": 3,
     "metadata": {},
     "output_type": "execute_result"
    }
   ],
   "source": [
    "load_dotenv()"
   ]
  },
  {
   "cell_type": "code",
   "execution_count": 4,
   "id": "fd3865a3",
   "metadata": {},
   "outputs": [],
   "source": [
    "# --- Environment & DB connection ------------------------------------------------\n",
    "DATABASE_USERNAME = os.environ.get('DATABASE_USERNAME')\n",
    "DATABASE_PASSWORD = os.environ.get('DATABASE_PASSWORD')\n",
    "DATABASE_HOST = os.environ.get('DATABASE_HOST')\n",
    "DATABASE_PORT = os.environ.get('DATABASE_PORT')\n",
    "DATABASE_NAME = os.environ.get('DATABASE_NAME')"
   ]
  },
  {
   "cell_type": "code",
   "execution_count": 5,
   "id": "26dcbdc1",
   "metadata": {},
   "outputs": [],
   "source": [
    "# Build Postgres DSN and create a SQLAlchemy engine\n",
    "PG_DSN = f\"postgresql+psycopg2://{DATABASE_USERNAME}:{DATABASE_PASSWORD}@{DATABASE_HOST}:{DATABASE_PORT}/{DATABASE_NAME}\"\n",
    "engine = create_engine(PG_DSN, pool_pre_ping=True)"
   ]
  },
  {
   "cell_type": "code",
   "execution_count": 6,
   "id": "5b9bbebf",
   "metadata": {
    "lines_to_next_cell": 2
   },
   "outputs": [],
   "source": [
    "# --- Aggregation parameters (keep in sync with your MV if you use one) ----------\n",
    "HALF_LIFE_DAYS = 30          # time-decay half-life in days (fresh events weigh more)\n",
    "VIEW_DEBOUNCE_SECONDS = 30   # debounce window for 'view' events from same user on same yacht\n",
    "LOOKBACK_DAYS = 365 * 2      # history window for events (e.g., last 2 years)\n",
    "DAY_CAP = 20.0               # per-(user,yacht,day) cap to prevent single session flooding"
   ]
  },
  {
   "cell_type": "markdown",
   "id": "9b0c32c5",
   "metadata": {},
   "source": [
    "-----------------------------\n",
    "--- DATA PREPARATION --------\n",
    "-----------------------------"
   ]
  },
  {
   "cell_type": "code",
   "execution_count": 7,
   "id": "0a578b5b",
   "metadata": {},
   "outputs": [
    {
     "data": {
      "text/html": [
       "<div>\n",
       "<style scoped>\n",
       "    .dataframe tbody tr th:only-of-type {\n",
       "        vertical-align: middle;\n",
       "    }\n",
       "\n",
       "    .dataframe tbody tr th {\n",
       "        vertical-align: top;\n",
       "    }\n",
       "\n",
       "    .dataframe thead th {\n",
       "        text-align: right;\n",
       "    }\n",
       "</style>\n",
       "<table border=\"1\" class=\"dataframe\">\n",
       "  <thead>\n",
       "    <tr style=\"text-align: right;\">\n",
       "      <th></th>\n",
       "      <th>id</th>\n",
       "      <th>role</th>\n",
       "    </tr>\n",
       "  </thead>\n",
       "  <tbody>\n",
       "    <tr>\n",
       "      <th>0</th>\n",
       "      <td>1a4f43f7-52e8-456d-8a96-34b704ba7eb6</td>\n",
       "      <td>lessee</td>\n",
       "    </tr>\n",
       "    <tr>\n",
       "      <th>1</th>\n",
       "      <td>1d7dbee7-2c6c-4d6a-b36c-4dc50a14b120</td>\n",
       "      <td>lessee</td>\n",
       "    </tr>\n",
       "    <tr>\n",
       "      <th>2</th>\n",
       "      <td>24e79705-1038-4d6f-b4ad-cda02fd6e3da</td>\n",
       "      <td>lessee</td>\n",
       "    </tr>\n",
       "    <tr>\n",
       "      <th>3</th>\n",
       "      <td>304d7f41-c837-43bc-af43-0c554cef88f1</td>\n",
       "      <td>lessee</td>\n",
       "    </tr>\n",
       "    <tr>\n",
       "      <th>4</th>\n",
       "      <td>4150a63e-ab37-4f8a-82ef-97aa373888ec</td>\n",
       "      <td>lessee</td>\n",
       "    </tr>\n",
       "  </tbody>\n",
       "</table>\n",
       "</div>"
      ],
      "text/plain": [
       "                                     id    role\n",
       "0  1a4f43f7-52e8-456d-8a96-34b704ba7eb6  lessee\n",
       "1  1d7dbee7-2c6c-4d6a-b36c-4dc50a14b120  lessee\n",
       "2  24e79705-1038-4d6f-b4ad-cda02fd6e3da  lessee\n",
       "3  304d7f41-c837-43bc-af43-0c554cef88f1  lessee\n",
       "4  4150a63e-ab37-4f8a-82ef-97aa373888ec  lessee"
      ]
     },
     "execution_count": 7,
     "metadata": {},
     "output_type": "execute_result"
    }
   ],
   "source": [
    "# --- 1) Load base tables --------------------------------------------------------\n",
    "# Users: only need id and role to keep 'lessee' events\n",
    "df_users = pd.read_sql('SELECT id, role FROM users;', engine)\n",
    "df_users.head()"
   ]
  },
  {
   "cell_type": "code",
   "execution_count": 8,
   "id": "0d885bd8",
   "metadata": {},
   "outputs": [
    {
     "data": {
      "text/html": [
       "<div>\n",
       "<style scoped>\n",
       "    .dataframe tbody tr th:only-of-type {\n",
       "        vertical-align: middle;\n",
       "    }\n",
       "\n",
       "    .dataframe tbody tr th {\n",
       "        vertical-align: top;\n",
       "    }\n",
       "\n",
       "    .dataframe thead th {\n",
       "        text-align: right;\n",
       "    }\n",
       "</style>\n",
       "<table border=\"1\" class=\"dataframe\">\n",
       "  <thead>\n",
       "    <tr style=\"text-align: right;\">\n",
       "      <th></th>\n",
       "      <th>yacht_id</th>\n",
       "      <th>owner_id</th>\n",
       "    </tr>\n",
       "  </thead>\n",
       "  <tbody>\n",
       "    <tr>\n",
       "      <th>0</th>\n",
       "      <td>e56888db-0317-42a3-a057-896daf3cd5ef</td>\n",
       "      <td>ff210a03-d01e-49a5-9050-284d1d94490a</td>\n",
       "    </tr>\n",
       "    <tr>\n",
       "      <th>1</th>\n",
       "      <td>e471618c-f35d-400d-912c-c217f4650a04</td>\n",
       "      <td>ff210a03-d01e-49a5-9050-284d1d94490a</td>\n",
       "    </tr>\n",
       "    <tr>\n",
       "      <th>2</th>\n",
       "      <td>9149396e-5737-4ae6-a29e-9129aafe9059</td>\n",
       "      <td>ff210a03-d01e-49a5-9050-284d1d94490a</td>\n",
       "    </tr>\n",
       "    <tr>\n",
       "      <th>3</th>\n",
       "      <td>87d38b20-5f94-49df-a405-711a8097408e</td>\n",
       "      <td>ff210a03-d01e-49a5-9050-284d1d94490a</td>\n",
       "    </tr>\n",
       "    <tr>\n",
       "      <th>4</th>\n",
       "      <td>6f5d2cca-51d9-4395-8c33-fd3aa8c6b07e</td>\n",
       "      <td>ff210a03-d01e-49a5-9050-284d1d94490a</td>\n",
       "    </tr>\n",
       "  </tbody>\n",
       "</table>\n",
       "</div>"
      ],
      "text/plain": [
       "                               yacht_id                              owner_id\n",
       "0  e56888db-0317-42a3-a057-896daf3cd5ef  ff210a03-d01e-49a5-9050-284d1d94490a\n",
       "1  e471618c-f35d-400d-912c-c217f4650a04  ff210a03-d01e-49a5-9050-284d1d94490a\n",
       "2  9149396e-5737-4ae6-a29e-9129aafe9059  ff210a03-d01e-49a5-9050-284d1d94490a\n",
       "3  87d38b20-5f94-49df-a405-711a8097408e  ff210a03-d01e-49a5-9050-284d1d94490a\n",
       "4  6f5d2cca-51d9-4395-8c33-fd3aa8c6b07e  ff210a03-d01e-49a5-9050-284d1d94490a"
      ]
     },
     "execution_count": 8,
     "metadata": {},
     "output_type": "execute_result"
    }
   ],
   "source": [
    "# Yachts: (owner_id used to drop self-interactions)\n",
    "df_yachts = pd.read_sql('SELECT id as yacht_id, \"userId\" AS owner_id FROM yachts;', engine)\n",
    "df_yachts.head()"
   ]
  },
  {
   "cell_type": "code",
   "execution_count": 9,
   "id": "9ca37ff7",
   "metadata": {},
   "outputs": [
    {
     "data": {
      "text/html": [
       "<div>\n",
       "<style scoped>\n",
       "    .dataframe tbody tr th:only-of-type {\n",
       "        vertical-align: middle;\n",
       "    }\n",
       "\n",
       "    .dataframe tbody tr th {\n",
       "        vertical-align: top;\n",
       "    }\n",
       "\n",
       "    .dataframe thead th {\n",
       "        text-align: right;\n",
       "    }\n",
       "</style>\n",
       "<table border=\"1\" class=\"dataframe\">\n",
       "  <thead>\n",
       "    <tr style=\"text-align: right;\">\n",
       "      <th></th>\n",
       "      <th>id</th>\n",
       "      <th>user_id</th>\n",
       "      <th>yacht_id</th>\n",
       "      <th>type</th>\n",
       "      <th>weight</th>\n",
       "      <th>ts</th>\n",
       "    </tr>\n",
       "  </thead>\n",
       "  <tbody>\n",
       "    <tr>\n",
       "      <th>0</th>\n",
       "      <td>6770dd7e-930a-41f3-92dd-aba9608e738d</td>\n",
       "      <td>d5977da5-42c5-4fa2-a44c-55bd047e835d</td>\n",
       "      <td>e56888db-0317-42a3-a057-896daf3cd5ef</td>\n",
       "      <td>view</td>\n",
       "      <td>2</td>\n",
       "      <td>2025-03-31 17:16:35.240000+00:00</td>\n",
       "    </tr>\n",
       "    <tr>\n",
       "      <th>1</th>\n",
       "      <td>bb131e30-bf37-425d-96bc-501e16416e97</td>\n",
       "      <td>23f09fda-ccba-4081-a482-b3d4d3e2d217</td>\n",
       "      <td>e471618c-f35d-400d-912c-c217f4650a04</td>\n",
       "      <td>view</td>\n",
       "      <td>2</td>\n",
       "      <td>2025-10-16 23:31:49.363000+00:00</td>\n",
       "    </tr>\n",
       "    <tr>\n",
       "      <th>2</th>\n",
       "      <td>79630cc9-6459-4ce3-bfe9-640cb6a8f96f</td>\n",
       "      <td>0eeb1f59-3484-4c4e-9cf6-42e5e877838f</td>\n",
       "      <td>87d38b20-5f94-49df-a405-711a8097408e</td>\n",
       "      <td>view</td>\n",
       "      <td>2</td>\n",
       "      <td>2025-06-22 14:51:18.974000+00:00</td>\n",
       "    </tr>\n",
       "    <tr>\n",
       "      <th>3</th>\n",
       "      <td>9e28bfe9-bf7c-4298-a63d-92888b21994e</td>\n",
       "      <td>23f09fda-ccba-4081-a482-b3d4d3e2d217</td>\n",
       "      <td>87d38b20-5f94-49df-a405-711a8097408e</td>\n",
       "      <td>view</td>\n",
       "      <td>2</td>\n",
       "      <td>2024-12-31 05:42:03.879000+00:00</td>\n",
       "    </tr>\n",
       "    <tr>\n",
       "      <th>4</th>\n",
       "      <td>201f8c43-1078-433a-937c-26c85ddcbc6d</td>\n",
       "      <td>0670dada-5602-449f-95a2-92d24c2c750a</td>\n",
       "      <td>5d09a41f-4f28-4396-afcd-0d308c25efec</td>\n",
       "      <td>view</td>\n",
       "      <td>2</td>\n",
       "      <td>2025-08-22 19:43:53.241000+00:00</td>\n",
       "    </tr>\n",
       "  </tbody>\n",
       "</table>\n",
       "</div>"
      ],
      "text/plain": [
       "                                     id  ...                               ts\n",
       "0  6770dd7e-930a-41f3-92dd-aba9608e738d  ... 2025-03-31 17:16:35.240000+00:00\n",
       "1  bb131e30-bf37-425d-96bc-501e16416e97  ... 2025-10-16 23:31:49.363000+00:00\n",
       "2  79630cc9-6459-4ce3-bfe9-640cb6a8f96f  ... 2025-06-22 14:51:18.974000+00:00\n",
       "3  9e28bfe9-bf7c-4298-a63d-92888b21994e  ... 2024-12-31 05:42:03.879000+00:00\n",
       "4  201f8c43-1078-433a-937c-26c85ddcbc6d  ... 2025-08-22 19:43:53.241000+00:00\n",
       "\n",
       "[5 rows x 6 columns]"
      ]
     },
     "execution_count": 9,
     "metadata": {},
     "output_type": "execute_result"
    }
   ],
   "source": [
    "# Events within the lookback window (parameterized to avoid string formatting in SQL)\n",
    "events_query = text(\"\"\"\n",
    "    SELECT id,\n",
    "           \"userId\"   AS user_id,\n",
    "           \"yachtId\"  AS yacht_id,\n",
    "           type,\n",
    "           weight,\n",
    "           \"createdAt\" AS ts\n",
    "    FROM events\n",
    "    WHERE \"createdAt\" >= NOW() - (:days || ' days')::interval\n",
    "\"\"\")\n",
    "df_events = pd.read_sql(events_query, engine, params={'days': str(LOOKBACK_DAYS)})\n",
    "\n",
    "# Optional guard: if there are no events, stop early to avoid errors downstream\n",
    "if df_events.empty:\n",
    "    raise ValueError(\"No events found within the lookback window. Adjust LOOKBACK_DAYS or check data.\")\n",
    "\n",
    "df_events.head()"
   ]
  },
  {
   "cell_type": "code",
   "execution_count": 12,
   "id": "99447272-000d-4af9-9806-5fc72b0554fb",
   "metadata": {},
   "outputs": [
    {
     "data": {
      "text/plain": [
       "(104, 2)"
      ]
     },
     "execution_count": 12,
     "metadata": {},
     "output_type": "execute_result"
    }
   ],
   "source": [
    "df_users.shape"
   ]
  },
  {
   "cell_type": "code",
   "execution_count": 13,
   "id": "48d889a4-f2a6-4dd4-b515-bbca2766952c",
   "metadata": {},
   "outputs": [
    {
     "data": {
      "text/plain": [
       "(2544, 2)"
      ]
     },
     "execution_count": 13,
     "metadata": {},
     "output_type": "execute_result"
    }
   ],
   "source": [
    "df_yachts.shape"
   ]
  },
  {
   "cell_type": "code",
   "execution_count": 14,
   "id": "2d564da6-6791-4bdc-91c0-492779d600c4",
   "metadata": {},
   "outputs": [
    {
     "data": {
      "text/plain": [
       "(1499, 6)"
      ]
     },
     "execution_count": 14,
     "metadata": {},
     "output_type": "execute_result"
    }
   ],
   "source": [
    "df_events.shape"
   ]
  },
  {
   "cell_type": "code",
   "execution_count": 15,
   "id": "ffd38b83",
   "metadata": {},
   "outputs": [],
   "source": [
    "# Optional guard: if there are no events, stop early to avoid errors downstream\n",
    "if df_events.empty:\n",
    "    raise ValueError(\"No events found within the lookback window. Adjust LOOKBACK_DAYS or check data.\")\n",
    "    \n",
    "# --- 2) Keep only 'lessee' events ----------------------------------------------\n",
    "# Join user role and filter to renter role (events from admins/owners are not demand signals)\n",
    "df_events = df_events.merge(df_users, left_on=\"user_id\", right_on=\"id\", how=\"left\", suffixes=(\"\", \"_u\"))\n",
    "df_events = df_events[df_events[\"role\"] == \"lessee\"].drop(columns=[\"id_u\", \"role\"])\n",
    "\n",
    "# --- 2) Keep only 'lessee' events ----------------------------------------------\n",
    "# Join user role and filter to renter role (events from admins/owners are not demand signals)\n",
    "df_events = df_events.merge(df_users, left_on=\"user_id\", right_on=\"id\", how=\"left\", suffixes=(\"\", \"_u\"))\n",
    "df_events = df_events[df_events[\"role\"] == \"lessee\"].drop(columns=[\"id_u\", \"role\"])\n",
    "\n",
    "# --- 3) Remove interactions with user's own yachts ------------------------------\n",
    "# (Owners interacting with their listings would bias the model)\n",
    "df_events = df_events.merge(df_yachts, on=\"yacht_id\", how=\"left\")\n",
    "df_events = df_events[df_events[\"owner_id\"].astype(str) != df_events[\"user_id\"].astype(str)]\n",
    "\n",
    "# --- 4) Debounce frequent 'view' events ----------------------------------------\n",
    "# Sort and drop near-duplicate 'view' events per (user, yacht) inside the debounce window\n",
    "df_events = df_events.sort_values([\"user_id\", \"yacht_id\", \"type\", \"ts\"])\n",
    "mask = ~(\n",
    "    (df_events[\"type\"] == \"view\") &\n",
    "    (df_events.groupby([\"user_id\", \"yacht_id\", \"type\"])[\"ts\"]\n",
    "        .diff()\n",
    "        .dt.total_seconds()\n",
    "        .between(0, VIEW_DEBOUNCE_SECONDS, inclusive=\"both\"))\n",
    ")\n",
    "df_events = df_events[mask]\n",
    "\n",
    "# Optional guard: if everything got filtered out, stop early\n",
    "if df_events.empty:\n",
    "    raise ValueError(\"All events were filtered out by role/self-ownership/debounce. Check filters.\")"
   ]
  },
  {
   "cell_type": "code",
   "execution_count": 16,
   "id": "c7920365",
   "metadata": {},
   "outputs": [
    {
     "data": {
      "text/plain": [
       "(1499, 7)"
      ]
     },
     "execution_count": 16,
     "metadata": {},
     "output_type": "execute_result"
    }
   ],
   "source": [
    "df_events.shape"
   ]
  },
  {
   "cell_type": "code",
   "execution_count": 18,
   "id": "65f8fc96",
   "metadata": {},
   "outputs": [
    {
     "data": {
      "text/html": [
       "<div>\n",
       "<style scoped>\n",
       "    .dataframe tbody tr th:only-of-type {\n",
       "        vertical-align: middle;\n",
       "    }\n",
       "\n",
       "    .dataframe tbody tr th {\n",
       "        vertical-align: top;\n",
       "    }\n",
       "\n",
       "    .dataframe thead th {\n",
       "        text-align: right;\n",
       "    }\n",
       "</style>\n",
       "<table border=\"1\" class=\"dataframe\">\n",
       "  <thead>\n",
       "    <tr style=\"text-align: right;\">\n",
       "      <th></th>\n",
       "      <th>id</th>\n",
       "      <th>user_id</th>\n",
       "      <th>yacht_id</th>\n",
       "      <th>type</th>\n",
       "      <th>weight</th>\n",
       "      <th>ts</th>\n",
       "      <th>owner_id</th>\n",
       "      <th>eff_w</th>\n",
       "      <th>d</th>\n",
       "    </tr>\n",
       "  </thead>\n",
       "  <tbody>\n",
       "    <tr>\n",
       "      <th>495</th>\n",
       "      <td>e02d836d-2ecf-43a7-a231-aab7dfa92959</td>\n",
       "      <td>0176a5a3-e4de-4365-a131-b62f095d7e8a</td>\n",
       "      <td>0be7a625-065c-4875-a70e-632d6005c2a8</td>\n",
       "      <td>view</td>\n",
       "      <td>2</td>\n",
       "      <td>2025-10-03 05:42:25.899000+00:00</td>\n",
       "      <td>ff210a03-d01e-49a5-9050-284d1d94490a</td>\n",
       "      <td>0.830909</td>\n",
       "      <td>2025-10-03 00:00:00+00:00</td>\n",
       "    </tr>\n",
       "    <tr>\n",
       "      <th>1019</th>\n",
       "      <td>d15b0914-3122-493a-9a19-84508817e3a8</td>\n",
       "      <td>0176a5a3-e4de-4365-a131-b62f095d7e8a</td>\n",
       "      <td>184195fe-a387-49cb-ab63-c3d08de09fc0</td>\n",
       "      <td>view</td>\n",
       "      <td>2</td>\n",
       "      <td>2025-10-18 07:17:16.525000+00:00</td>\n",
       "      <td>ff210a03-d01e-49a5-9050-284d1d94490a</td>\n",
       "      <td>1.372949</td>\n",
       "      <td>2025-10-18 00:00:00+00:00</td>\n",
       "    </tr>\n",
       "    <tr>\n",
       "      <th>553</th>\n",
       "      <td>1a0ef70e-c902-44af-9751-e0da366a6509</td>\n",
       "      <td>0176a5a3-e4de-4365-a131-b62f095d7e8a</td>\n",
       "      <td>1e22d50f-0e8e-4df1-8cde-342135867737</td>\n",
       "      <td>view</td>\n",
       "      <td>2</td>\n",
       "      <td>2025-10-20 13:42:29.489000+00:00</td>\n",
       "      <td>ff210a03-d01e-49a5-9050-284d1d94490a</td>\n",
       "      <td>1.480744</td>\n",
       "      <td>2025-10-20 00:00:00+00:00</td>\n",
       "    </tr>\n",
       "    <tr>\n",
       "      <th>13</th>\n",
       "      <td>5814093b-d3f5-4b3e-a950-8d0786f6212b</td>\n",
       "      <td>0176a5a3-e4de-4365-a131-b62f095d7e8a</td>\n",
       "      <td>2daf28cb-4009-4060-89de-6cf026e9a296</td>\n",
       "      <td>wishlist</td>\n",
       "      <td>4</td>\n",
       "      <td>2025-10-10 08:21:56.013000+00:00</td>\n",
       "      <td>ff210a03-d01e-49a5-9050-284d1d94490a</td>\n",
       "      <td>2.106311</td>\n",
       "      <td>2025-10-10 00:00:00+00:00</td>\n",
       "    </tr>\n",
       "    <tr>\n",
       "      <th>374</th>\n",
       "      <td>90415064-e75f-4fad-b2c3-946c70945a08</td>\n",
       "      <td>0176a5a3-e4de-4365-a131-b62f095d7e8a</td>\n",
       "      <td>5740a809-5ff2-41c7-bee7-3f5eed723790</td>\n",
       "      <td>wishlist</td>\n",
       "      <td>4</td>\n",
       "      <td>2025-10-18 16:08:03.412000+00:00</td>\n",
       "      <td>ff210a03-d01e-49a5-9050-284d1d94490a</td>\n",
       "      <td>2.779844</td>\n",
       "      <td>2025-10-18 00:00:00+00:00</td>\n",
       "    </tr>\n",
       "  </tbody>\n",
       "</table>\n",
       "</div>"
      ],
      "text/plain": [
       "                                        id  ...                         d\n",
       "495   e02d836d-2ecf-43a7-a231-aab7dfa92959  ... 2025-10-03 00:00:00+00:00\n",
       "1019  d15b0914-3122-493a-9a19-84508817e3a8  ... 2025-10-18 00:00:00+00:00\n",
       "553   1a0ef70e-c902-44af-9751-e0da366a6509  ... 2025-10-20 00:00:00+00:00\n",
       "13    5814093b-d3f5-4b3e-a950-8d0786f6212b  ... 2025-10-10 00:00:00+00:00\n",
       "374   90415064-e75f-4fad-b2c3-946c70945a08  ... 2025-10-18 00:00:00+00:00\n",
       "\n",
       "[5 rows x 9 columns]"
      ]
     },
     "execution_count": 18,
     "metadata": {},
     "output_type": "execute_result"
    }
   ],
   "source": [
    "# --- 5) Time-decay weighting ----------------------------------------------------\n",
    "# Compute exponentially decayed weight: eff_w = weight * exp(-days_ago / half_life)\n",
    "now = pd.Timestamp.utcnow()\n",
    "days_ago = (now - pd.to_datetime(df_events[\"ts\"], utc=True)).dt.total_seconds() / 86400.0\n",
    "decay = np.exp(-days_ago / HALF_LIFE_DAYS)\n",
    "df_events[\"eff_w\"] = df_events[\"weight\"].astype(float) * decay\n",
    "\n",
    "# --- 6) Daily cap to limit flood from single sessions ---------------------------\n",
    "# Aggregate by day, cap the daily contribution, then sum across days\n",
    "df_events[\"d\"] = pd.to_datetime(df_events[\"ts\"], utc=True).dt.floor(\"D\")\n",
    "df_events.head()"
   ]
  },
  {
   "cell_type": "code",
   "execution_count": 19,
   "id": "b0a5c64e",
   "metadata": {},
   "outputs": [
    {
     "data": {
      "text/html": [
       "<div>\n",
       "<style scoped>\n",
       "    .dataframe tbody tr th:only-of-type {\n",
       "        vertical-align: middle;\n",
       "    }\n",
       "\n",
       "    .dataframe tbody tr th {\n",
       "        vertical-align: top;\n",
       "    }\n",
       "\n",
       "    .dataframe thead th {\n",
       "        text-align: right;\n",
       "    }\n",
       "</style>\n",
       "<table border=\"1\" class=\"dataframe\">\n",
       "  <thead>\n",
       "    <tr style=\"text-align: right;\">\n",
       "      <th></th>\n",
       "      <th>user_id</th>\n",
       "      <th>yacht_id</th>\n",
       "      <th>d</th>\n",
       "      <th>eff_w</th>\n",
       "      <th>day_sum</th>\n",
       "    </tr>\n",
       "  </thead>\n",
       "  <tbody>\n",
       "    <tr>\n",
       "      <th>0</th>\n",
       "      <td>0176a5a3-e4de-4365-a131-b62f095d7e8a</td>\n",
       "      <td>0be7a625-065c-4875-a70e-632d6005c2a8</td>\n",
       "      <td>2025-10-03 00:00:00+00:00</td>\n",
       "      <td>0.830909</td>\n",
       "      <td>0.830909</td>\n",
       "    </tr>\n",
       "    <tr>\n",
       "      <th>1</th>\n",
       "      <td>0176a5a3-e4de-4365-a131-b62f095d7e8a</td>\n",
       "      <td>184195fe-a387-49cb-ab63-c3d08de09fc0</td>\n",
       "      <td>2025-10-18 00:00:00+00:00</td>\n",
       "      <td>1.372949</td>\n",
       "      <td>1.372949</td>\n",
       "    </tr>\n",
       "    <tr>\n",
       "      <th>2</th>\n",
       "      <td>0176a5a3-e4de-4365-a131-b62f095d7e8a</td>\n",
       "      <td>1e22d50f-0e8e-4df1-8cde-342135867737</td>\n",
       "      <td>2025-10-20 00:00:00+00:00</td>\n",
       "      <td>1.480744</td>\n",
       "      <td>1.480744</td>\n",
       "    </tr>\n",
       "    <tr>\n",
       "      <th>3</th>\n",
       "      <td>0176a5a3-e4de-4365-a131-b62f095d7e8a</td>\n",
       "      <td>2daf28cb-4009-4060-89de-6cf026e9a296</td>\n",
       "      <td>2025-10-10 00:00:00+00:00</td>\n",
       "      <td>2.106311</td>\n",
       "      <td>2.106311</td>\n",
       "    </tr>\n",
       "    <tr>\n",
       "      <th>4</th>\n",
       "      <td>0176a5a3-e4de-4365-a131-b62f095d7e8a</td>\n",
       "      <td>5740a809-5ff2-41c7-bee7-3f5eed723790</td>\n",
       "      <td>2025-10-18 00:00:00+00:00</td>\n",
       "      <td>2.779844</td>\n",
       "      <td>2.779844</td>\n",
       "    </tr>\n",
       "  </tbody>\n",
       "</table>\n",
       "</div>"
      ],
      "text/plain": [
       "                                user_id  ...   day_sum\n",
       "0  0176a5a3-e4de-4365-a131-b62f095d7e8a  ...  0.830909\n",
       "1  0176a5a3-e4de-4365-a131-b62f095d7e8a  ...  1.372949\n",
       "2  0176a5a3-e4de-4365-a131-b62f095d7e8a  ...  1.480744\n",
       "3  0176a5a3-e4de-4365-a131-b62f095d7e8a  ...  2.106311\n",
       "4  0176a5a3-e4de-4365-a131-b62f095d7e8a  ...  2.779844\n",
       "\n",
       "[5 rows x 5 columns]"
      ]
     },
     "execution_count": 19,
     "metadata": {},
     "output_type": "execute_result"
    }
   ],
   "source": [
    "daily = (\n",
    "    df_events\n",
    "    .groupby([\"user_id\", \"yacht_id\", \"d\"], as_index=False)[\"eff_w\"]\n",
    "    .sum()\n",
    ")\n",
    "daily[\"day_sum\"] = daily[\"eff_w\"].clip(upper=DAY_CAP)\n",
    "\n",
    "daily.head()"
   ]
  },
  {
   "cell_type": "code",
   "execution_count": 21,
   "id": "173049ed",
   "metadata": {
    "lines_to_next_cell": 1
   },
   "outputs": [
    {
     "name": "stdout",
     "output_type": "stream",
     "text": [
      "(1491, 4)\n"
     ]
    },
    {
     "data": {
      "text/html": [
       "<div>\n",
       "<style scoped>\n",
       "    .dataframe tbody tr th:only-of-type {\n",
       "        vertical-align: middle;\n",
       "    }\n",
       "\n",
       "    .dataframe tbody tr th {\n",
       "        vertical-align: top;\n",
       "    }\n",
       "\n",
       "    .dataframe thead th {\n",
       "        text-align: right;\n",
       "    }\n",
       "</style>\n",
       "<table border=\"1\" class=\"dataframe\">\n",
       "  <thead>\n",
       "    <tr style=\"text-align: right;\">\n",
       "      <th></th>\n",
       "      <th>user_id</th>\n",
       "      <th>yacht_id</th>\n",
       "      <th>score</th>\n",
       "      <th>latest_ts</th>\n",
       "    </tr>\n",
       "  </thead>\n",
       "  <tbody>\n",
       "    <tr>\n",
       "      <th>0</th>\n",
       "      <td>0176a5a3-e4de-4365-a131-b62f095d7e8a</td>\n",
       "      <td>0be7a625-065c-4875-a70e-632d6005c2a8</td>\n",
       "      <td>0.830909</td>\n",
       "      <td>2025-10-03 00:00:00+00:00</td>\n",
       "    </tr>\n",
       "    <tr>\n",
       "      <th>1</th>\n",
       "      <td>0176a5a3-e4de-4365-a131-b62f095d7e8a</td>\n",
       "      <td>184195fe-a387-49cb-ab63-c3d08de09fc0</td>\n",
       "      <td>1.372949</td>\n",
       "      <td>2025-10-18 00:00:00+00:00</td>\n",
       "    </tr>\n",
       "    <tr>\n",
       "      <th>2</th>\n",
       "      <td>0176a5a3-e4de-4365-a131-b62f095d7e8a</td>\n",
       "      <td>1e22d50f-0e8e-4df1-8cde-342135867737</td>\n",
       "      <td>1.480744</td>\n",
       "      <td>2025-10-20 00:00:00+00:00</td>\n",
       "    </tr>\n",
       "    <tr>\n",
       "      <th>3</th>\n",
       "      <td>0176a5a3-e4de-4365-a131-b62f095d7e8a</td>\n",
       "      <td>2daf28cb-4009-4060-89de-6cf026e9a296</td>\n",
       "      <td>2.106311</td>\n",
       "      <td>2025-10-10 00:00:00+00:00</td>\n",
       "    </tr>\n",
       "    <tr>\n",
       "      <th>4</th>\n",
       "      <td>0176a5a3-e4de-4365-a131-b62f095d7e8a</td>\n",
       "      <td>5740a809-5ff2-41c7-bee7-3f5eed723790</td>\n",
       "      <td>2.779844</td>\n",
       "      <td>2025-10-18 00:00:00+00:00</td>\n",
       "    </tr>\n",
       "  </tbody>\n",
       "</table>\n",
       "</div>"
      ],
      "text/plain": [
       "                                user_id  ...                 latest_ts\n",
       "0  0176a5a3-e4de-4365-a131-b62f095d7e8a  ... 2025-10-03 00:00:00+00:00\n",
       "1  0176a5a3-e4de-4365-a131-b62f095d7e8a  ... 2025-10-18 00:00:00+00:00\n",
       "2  0176a5a3-e4de-4365-a131-b62f095d7e8a  ... 2025-10-20 00:00:00+00:00\n",
       "3  0176a5a3-e4de-4365-a131-b62f095d7e8a  ... 2025-10-10 00:00:00+00:00\n",
       "4  0176a5a3-e4de-4365-a131-b62f095d7e8a  ... 2025-10-18 00:00:00+00:00\n",
       "\n",
       "[5 rows x 4 columns]"
      ]
     },
     "execution_count": 21,
     "metadata": {},
     "output_type": "execute_result"
    }
   ],
   "source": [
    "scores = (\n",
    "    daily\n",
    "    .groupby([\"user_id\", \"yacht_id\"], as_index=False)\n",
    "    .agg(score=(\"day_sum\", \"sum\"), latest_ts=(\"d\", \"max\"))\n",
    ")\n",
    "print(scores.shape)\n",
    "scores.head()\n"
   ]
  },
  {
   "cell_type": "code",
   "execution_count": 23,
   "id": "6c103170",
   "metadata": {
    "lines_to_next_cell": 1
   },
   "outputs": [],
   "source": [
    "# --- 7) Per-user min-max scaling to [1..5] -------------------------------------\n",
    "# Convert implicit scores into pseudo-ratings for Surprise (stable range per user)\n",
    "def scale_1_5(g: pd.DataFrame) -> pd.DataFrame:\n",
    "    mn, mx = g[\"score\"].min(), g[\"score\"].max()\n",
    "    if mx - mn < 1e-9:\n",
    "        # If user has uniform scores, assign a neutral-but-positive rating\n",
    "        g[\"rating\"] = 4.0\n",
    "    else:\n",
    "        g[\"rating\"] = 1 + 4 * (g[\"score\"] - mn) / (mx - mn)\n",
    "    return g\n",
    "\n",
    "def ensure_str_ids(df):\n",
    "    df[\"user_id\"] = df[\"user_id\"].astype(str)\n",
    "    df[\"yacht_id\"] = df[\"yacht_id\"].astype(str)\n",
    "    return df"
   ]
  },
  {
   "cell_type": "code",
   "execution_count": 25,
   "id": "fb383d98",
   "metadata": {},
   "outputs": [
    {
     "name": "stdout",
     "output_type": "stream",
     "text": [
      "Number of ratings:\n",
      " (1491, 4)\n"
     ]
    },
    {
     "name": "stderr",
     "output_type": "stream",
     "text": [
      "/var/folders/lj/mz0mblqx32ldyss3l0yjwz1r0000gp/T/ipykernel_79195/81667383.py:1: DeprecationWarning: DataFrameGroupBy.apply operated on the grouping columns. This behavior is deprecated, and in a future version of pandas the grouping columns will be excluded from the operation. Either pass `include_groups=False` to exclude the groupings or explicitly select the grouping columns after groupby to silence this warning.\n",
      "  ratings = scores.groupby(\"user_id\", group_keys=False).apply(scale_1_5)\n"
     ]
    },
    {
     "data": {
      "text/html": [
       "<div>\n",
       "<style scoped>\n",
       "    .dataframe tbody tr th:only-of-type {\n",
       "        vertical-align: middle;\n",
       "    }\n",
       "\n",
       "    .dataframe tbody tr th {\n",
       "        vertical-align: top;\n",
       "    }\n",
       "\n",
       "    .dataframe thead th {\n",
       "        text-align: right;\n",
       "    }\n",
       "</style>\n",
       "<table border=\"1\" class=\"dataframe\">\n",
       "  <thead>\n",
       "    <tr style=\"text-align: right;\">\n",
       "      <th></th>\n",
       "      <th>user_id</th>\n",
       "      <th>yacht_id</th>\n",
       "      <th>rating</th>\n",
       "      <th>latest_ts</th>\n",
       "    </tr>\n",
       "  </thead>\n",
       "  <tbody>\n",
       "    <tr>\n",
       "      <th>0</th>\n",
       "      <td>0176a5a3-e4de-4365-a131-b62f095d7e8a</td>\n",
       "      <td>0be7a625-065c-4875-a70e-632d6005c2a8</td>\n",
       "      <td>1.081099</td>\n",
       "      <td>2025-10-03 00:00:00+00:00</td>\n",
       "    </tr>\n",
       "    <tr>\n",
       "      <th>1</th>\n",
       "      <td>0176a5a3-e4de-4365-a131-b62f095d7e8a</td>\n",
       "      <td>184195fe-a387-49cb-ab63-c3d08de09fc0</td>\n",
       "      <td>2.171027</td>\n",
       "      <td>2025-10-18 00:00:00+00:00</td>\n",
       "    </tr>\n",
       "    <tr>\n",
       "      <th>2</th>\n",
       "      <td>0176a5a3-e4de-4365-a131-b62f095d7e8a</td>\n",
       "      <td>1e22d50f-0e8e-4df1-8cde-342135867737</td>\n",
       "      <td>2.387781</td>\n",
       "      <td>2025-10-20 00:00:00+00:00</td>\n",
       "    </tr>\n",
       "    <tr>\n",
       "      <th>3</th>\n",
       "      <td>0176a5a3-e4de-4365-a131-b62f095d7e8a</td>\n",
       "      <td>2daf28cb-4009-4060-89de-6cf026e9a296</td>\n",
       "      <td>3.645666</td>\n",
       "      <td>2025-10-10 00:00:00+00:00</td>\n",
       "    </tr>\n",
       "    <tr>\n",
       "      <th>4</th>\n",
       "      <td>0176a5a3-e4de-4365-a131-b62f095d7e8a</td>\n",
       "      <td>5740a809-5ff2-41c7-bee7-3f5eed723790</td>\n",
       "      <td>5.000000</td>\n",
       "      <td>2025-10-18 00:00:00+00:00</td>\n",
       "    </tr>\n",
       "  </tbody>\n",
       "</table>\n",
       "</div>"
      ],
      "text/plain": [
       "                                user_id  ...                 latest_ts\n",
       "0  0176a5a3-e4de-4365-a131-b62f095d7e8a  ... 2025-10-03 00:00:00+00:00\n",
       "1  0176a5a3-e4de-4365-a131-b62f095d7e8a  ... 2025-10-18 00:00:00+00:00\n",
       "2  0176a5a3-e4de-4365-a131-b62f095d7e8a  ... 2025-10-20 00:00:00+00:00\n",
       "3  0176a5a3-e4de-4365-a131-b62f095d7e8a  ... 2025-10-10 00:00:00+00:00\n",
       "4  0176a5a3-e4de-4365-a131-b62f095d7e8a  ... 2025-10-18 00:00:00+00:00\n",
       "\n",
       "[5 rows x 4 columns]"
      ]
     },
     "execution_count": 25,
     "metadata": {},
     "output_type": "execute_result"
    }
   ],
   "source": [
    "ratings = scores.groupby(\"user_id\", group_keys=False).apply(scale_1_5)\n",
    "ratings = ratings[[\"user_id\", \"yacht_id\", \"rating\", \"latest_ts\"]].reset_index(drop=True)\n",
    "ratings = ensure_str_ids(ratings)\n",
    "print(\"Number of ratings:\\n\", ratings.shape)\n",
    "# print(\"Sample ratings:\\n\", ratings.head())\n",
    "ratings.head()"
   ]
  },
  {
   "cell_type": "code",
   "execution_count": null,
   "id": "efff7ddf",
   "metadata": {},
   "outputs": [],
   "source": [
    "# --- 8) Build Surprise dataset --------------------------------------------------\n",
    "# Surprise expects explicit ratings with a known scale; we mapped to [1..5]\n",
    "reader = Reader(rating_scale=(1, 5))\n",
    "data = Dataset.load_from_df(ratings[[\"user_id\", \"yacht_id\", \"rating\"]], reader)"
   ]
  },
  {
   "cell_type": "markdown",
   "id": "ce243ffb",
   "metadata": {},
   "source": [
    "-----------------------------\n",
    "--- TRAIN / TEST MODEL --------\n",
    "-----------------------------"
   ]
  },
  {
   "cell_type": "code",
   "execution_count": 26,
   "id": "3aa83bba",
   "metadata": {},
   "outputs": [],
   "source": [
    "# Config\n",
    "ART_DIR = os.getenv(\"ART_DIR\", \"./artifacts_surprise\")\n",
    "ALGO_NAME = os.getenv(\"ALGO\", \"SVD\")            # 'SVD' or 'SVDpp'\n",
    "FACTORS   = int(os.getenv(\"FACTORS\", \"64\"))\n",
    "EPOCHS    = int(os.getenv(\"EPOCHS\", \"40\"))\n",
    "LR_ALL    = float(os.getenv(\"LR_ALL\", \"0.005\"))\n",
    "REG_ALL   = float(os.getenv(\"REG_ALL\", \"0.02\"))\n",
    "CUTOFF    = os.getenv(\"CUTOFF_DATE\", \"\")        # e.g. \"2025-06-01\" for time-based split\n",
    "TEST_SIZE = float(os.getenv(\"TEST_SIZE\", \"0.2\"))# used if no CUTOFF\n",
    "K_TOP     = int(os.getenv(\"TOPK\", \"10\"))        # for top-K metrics\n",
    "POS_TH    = float(os.getenv(\"POS_THRESHOLD\", \"4.0\"))  # rating >= POS_TH is positive in test"
   ]
  },
  {
   "cell_type": "code",
   "execution_count": null,
   "id": "89800ba9",
   "metadata": {},
   "outputs": [],
   "source": [
    "os.makedirs(ART_DIR, exist_ok=True)"
   ]
  },
  {
   "cell_type": "code",
   "execution_count": 27,
   "id": "a753cde6",
   "metadata": {
    "lines_to_next_cell": 1
   },
   "outputs": [],
   "source": [
    "# ==== 9) Build Surprise train/test\n",
    "def build_train_test_from_ratings(ratings_df: pd.DataFrame, cutoff_date: str = \"\", test_size: float = 0.2):\n",
    "    \"\"\"Create Surprise trainset/testset either by time split or random split.\"\"\"\n",
    "    reader = Reader(rating_scale=(1, 5))\n",
    "    if cutoff_date:\n",
    "        T = pd.to_datetime(cutoff_date)\n",
    "        train_df = ratings_df[ratings_df[\"latest_ts\"] < T]\n",
    "        test_df  = ratings_df[ratings_df[\"latest_ts\"] >= T]\n",
    "        if train_df.empty or test_df.empty:\n",
    "            raise ValueError(\"Time-based split produced empty train or test; adjust CUTOFF_DATE.\")\n",
    "        train_data = Dataset.load_from_df(train_df[[\"user_id\",\"yacht_id\",\"rating\"]], reader)\n",
    "        trainset = train_data.build_full_trainset()\n",
    "        testset  = list(test_df[[\"user_id\",\"yacht_id\",\"rating\"]].itertuples(index=False, name=None))\n",
    "        return trainset, testset, train_df, test_df\n",
    "    else:\n",
    "        data = Dataset.load_from_df(ratings_df[[\"user_id\",\"yacht_id\",\"rating\"]], reader)\n",
    "        trainset, testset = train_test_split(data, test_size=test_size, random_state=42)\n",
    "        # For convenience, reconstruct DataFrames\n",
    "        train_df = pd.DataFrame(trainset.build_testset(), columns=[\"user_id\",\"yacht_id\",\"rating\"])\n",
    "        test_df  = pd.DataFrame(testset, columns=[\"user_id\",\"yacht_id\",\"rating\"])\n",
    "        return trainset, testset, train_df, test_df"
   ]
  },
  {
   "cell_type": "code",
   "execution_count": 30,
   "id": "d0af8257",
   "metadata": {},
   "outputs": [
    {
     "name": "stdout",
     "output_type": "stream",
     "text": [
      "(1192, 3)\n",
      "(299, 3)\n"
     ]
    }
   ],
   "source": [
    "trainset, testset, train_df, test_df = build_train_test_from_ratings(ratings, CUTOFF, TEST_SIZE)\n",
    "train_df = ensure_str_ids(train_df)\n",
    "test_df = ensure_str_ids(test_df)\n",
    "print(train_df.shape)\n",
    "print(test_df.shape)"
   ]
  },
  {
   "cell_type": "code",
   "execution_count": 31,
   "id": "e3d25571",
   "metadata": {
    "lines_to_next_cell": 1
   },
   "outputs": [],
   "source": [
    "# ==== 10 Train model\n",
    "def make_algo(name: str):\n",
    "    if name == \"SVDpp\":\n",
    "        return SVDpp(n_factors=FACTORS, n_epochs=EPOCHS, random_state=42)\n",
    "    # default SVD\n",
    "    return SVD(n_factors=FACTORS, n_epochs=EPOCHS, lr_all=LR_ALL, reg_all=REG_ALL, random_state=42)"
   ]
  },
  {
   "cell_type": "code",
   "execution_count": 32,
   "id": "f28e94d0",
   "metadata": {
    "lines_to_next_cell": 2
   },
   "outputs": [
    {
     "data": {
      "text/plain": [
       "<surprise.prediction_algorithms.matrix_factorization.SVDpp at 0x157976630>"
      ]
     },
     "execution_count": 32,
     "metadata": {},
     "output_type": "execute_result"
    }
   ],
   "source": [
    "algo = make_algo(ALGO_NAME)\n",
    "algo.fit(trainset)"
   ]
  },
  {
   "cell_type": "code",
   "execution_count": 33,
   "id": "7f4fc69d",
   "metadata": {},
   "outputs": [
    {
     "name": "stdout",
     "output_type": "stream",
     "text": [
      "[METRIC] RMSE=1.2529  MAE=0.8580\n"
     ]
    }
   ],
   "source": [
    "# ==== 11 Evaluate: RMSE/MAE (pointwise)\n",
    "preds = algo.test(testset)\n",
    "rmse = accuracy.rmse(preds, verbose=False)\n",
    "mae  = accuracy.mae(preds, verbose=False)\n",
    "print(f\"[METRIC] RMSE={rmse:.4f}  MAE={mae:.4f}\")"
   ]
  },
  {
   "cell_type": "code",
   "execution_count": 34,
   "id": "d12f7ba2",
   "metadata": {
    "lines_to_next_cell": 1
   },
   "outputs": [],
   "source": [
    "# ==== 12  Evaluate: Top-K ranking metrics\n",
    "def precision_recall_ndcg_at_k(algo, train_df, test_df, K=10, pos_threshold=4.0):\n",
    "    # positives in test\n",
    "    test_pos = test_df[test_df[\"rating\"] >= pos_threshold]\n",
    "    user_pos = test_pos.groupby(\"user_id\")[\"yacht_id\"].apply(set).to_dict()\n",
    "    # candidates = items seen in train universe\n",
    "    item_set = set(train_df[\"yacht_id\"].unique())\n",
    "    # items seen in train per user\n",
    "    train_seen = train_df.groupby(\"user_id\")[\"yacht_id\"].apply(set).to_dict()\n",
    "\n",
    "    precs, recs, ndcgs = [], [], []\n",
    "\n",
    "    for u, pos_items in user_pos.items():\n",
    "        candidates = list(item_set - train_seen.get(u, set()))\n",
    "        if not candidates:\n",
    "            continue\n",
    "        est = [(iid, algo.predict(u, iid).est) for iid in candidates]\n",
    "        est.sort(key=lambda x: x[1], reverse=True)\n",
    "        top = [iid for iid,_ in est[:K]]\n",
    "\n",
    "        # precision/recall\n",
    "        hits = len(set(top) & pos_items)\n",
    "        precs.append(hits / K)\n",
    "        recs.append(hits / max(1, len(pos_items)))\n",
    "\n",
    "        # nDCG\n",
    "        # relevance is 1 if item in pos_items else 0\n",
    "        gains = [1.0 if iid in pos_items else 0.0 for iid in top]\n",
    "        dcg = 0.0\n",
    "        for i, g in enumerate(gains, start=1):\n",
    "            dcg += g / np.log2(i + 1)\n",
    "        # ideal DCG: first min(K, |pos|) are 1\n",
    "        ideal_hits = min(K, len(pos_items))\n",
    "        idcg = sum(1.0 / np.log2(i + 1) for i in range(1, ideal_hits + 1))\n",
    "        ndcgs.append(dcg / idcg if idcg > 0 else 0.0)\n",
    "\n",
    "    metrics = {\n",
    "        \"precision_at_k\": float(np.mean(precs)) if precs else 0.0,\n",
    "        \"recall_at_k\": float(np.mean(recs)) if recs else 0.0,\n",
    "        \"ndcg_at_k\": float(np.mean(ndcgs)) if ndcgs else 0.0,\n",
    "        \"users_evaluated\": int(len(precs)),\n",
    "    }\n",
    "    return metrics"
   ]
  },
  {
   "cell_type": "code",
   "execution_count": 35,
   "id": "966fe51e",
   "metadata": {},
   "outputs": [
    {
     "name": "stdout",
     "output_type": "stream",
     "text": [
      "[METRIC] P@15=0.0000  R@15=0.0000  nDCG@15=0.0000  (users=34)\n"
     ]
    }
   ],
   "source": [
    "rank_metrics = precision_recall_ndcg_at_k(algo, train_df, test_df, K=K_TOP, pos_threshold=POS_TH)\n",
    "print(f\"[METRIC] P@{K_TOP}={rank_metrics['precision_at_k']:.4f}  \"\n",
    "      f\"R@{K_TOP}={rank_metrics['recall_at_k']:.4f}  \"\n",
    "      f\"nDCG@{K_TOP}={rank_metrics['ndcg_at_k']:.4f}  \"\n",
    "      f\"(users={rank_metrics['users_evaluated']})\")"
   ]
  },
  {
   "cell_type": "markdown",
   "id": "8956fba5",
   "metadata": {},
   "source": [
    "==== 13 Interpretation (“why recommended?”)\n",
    "-----------------------------\n",
    "For SVD/SVDpp we can use:\n",
    " - global/user/item biases (SVD): algo.bi (item bias), algo.bu (user bias)\n",
    " - cosine similarity to user's recently liked items (post-hoc explanation)\n",
    "\n",
    "We'll build a tiny helper that, for a given (user, candidate),\n",
    "shows top-3 \"most similar liked items\" by cosine in latent space."
   ]
  },
  {
   "cell_type": "code",
   "execution_count": 36,
   "id": "fd48edad",
   "metadata": {
    "lines_to_next_cell": 1
   },
   "outputs": [],
   "source": [
    "def latent_vectors(algo):\n",
    "    # item latent matrix (inner item id -> vector)\n",
    "    Qi = algo.qi\n",
    "    # mapping inner <-> raw ids\n",
    "    inner_to_raw_iid = {i: trainset.to_raw_iid(i) for i in range(trainset.n_items)}\n",
    "    raw_to_inner_iid = {raw: inner for inner, raw in inner_to_raw_iid.items()}\n",
    "    return Qi, raw_to_inner_iid, inner_to_raw_iid"
   ]
  },
  {
   "cell_type": "code",
   "execution_count": 37,
   "id": "999b0295",
   "metadata": {
    "lines_to_next_cell": 1
   },
   "outputs": [],
   "source": [
    "Qi, raw2inner, inner2raw = latent_vectors(algo)"
   ]
  },
  {
   "cell_type": "code",
   "execution_count": 38,
   "id": "23dbb666",
   "metadata": {
    "lines_to_next_cell": 1
   },
   "outputs": [],
   "source": [
    "def cosine(a, b, eps=1e-12):\n",
    "    na = np.linalg.norm(a); nb = np.linalg.norm(b)\n",
    "    if na < eps or nb < eps:\n",
    "        return 0.0\n",
    "    return float(np.dot(a, b) / (na * nb))"
   ]
  },
  {
   "cell_type": "code",
   "execution_count": 39,
   "id": "ba7ac28c",
   "metadata": {
    "lines_to_next_cell": 1
   },
   "outputs": [],
   "source": [
    "def explain_reco(user_id: str, candidate_iid: str, top_m=3):\n",
    "    \"\"\"Return explanation: similar previously liked items for this user.\"\"\"\n",
    "    # 1) map user to inner id\n",
    "    try:\n",
    "        u_in = trainset.to_inner_uid(user_id)\n",
    "    except ValueError:\n",
    "        return {\"note\": \"user not in train\"}\n",
    "\n",
    "    # 2) items the user interacted with in TRAIN (inner ids)\n",
    "    user_items_inner = [i for (i, _rating) in trainset.ur[u_in]]\n",
    "\n",
    "    # 3) convert inner -> raw item ids\n",
    "    user_items_raw = [trainset.to_raw_iid(i) for i in user_items_inner]\n",
    "\n",
    "    # 4) pick user's positives (rating >= POS_TH) from TRAIN df\n",
    "    liked_raw = set(\n",
    "        train_df.loc[\n",
    "            (train_df.user_id.astype(str) == str(user_id)) &\n",
    "            (train_df.rating >= POS_TH),\n",
    "            \"yacht_id\"\n",
    "        ].astype(str)\n",
    "    )\n",
    "\n",
    "    liked = [iid for iid in user_items_raw if iid in liked_raw]\n",
    "    if not liked:\n",
    "        return {\"note\": \"no liked items in train\"}\n",
    "\n",
    "    # 5) candidate latent vector\n",
    "    if candidate_iid not in raw2inner:\n",
    "        return {\"note\": \"candidate not in train\"}\n",
    "    cand_vec = Qi[raw2inner[candidate_iid]]\n",
    "\n",
    "    # 6) compute cosine similarity with liked items\n",
    "    sims = []\n",
    "    for iid in liked:\n",
    "        if iid not in raw2inner:\n",
    "            continue\n",
    "        sims.append((iid, cosine(cand_vec, Qi[raw2inner[iid]])))\n",
    "\n",
    "    sims.sort(key=lambda x: x[1], reverse=True)\n",
    "    return {\"similar_liked\": sims[:top_m]}"
   ]
  },
  {
   "cell_type": "code",
   "execution_count": null,
   "id": "6c6e447f",
   "metadata": {},
   "outputs": [],
   "source": [
    "# ==== 14  Save artifacts & sample outputs\n",
    "model_path = os.path.join(ART_DIR, f\"surprise_{ALGO_NAME.lower()}.pkl\")\n",
    "meta_path  = os.path.join(ART_DIR, f\"surprise_meta_{ALGO_NAME.lower()}.json\")\n",
    "metrics_path = os.path.join(ART_DIR, f\"metrics_{ALGO_NAME.lower()}.json\")\n",
    "samples_path = os.path.join(ART_DIR, f\"sample_recommendations_{ALGO_NAME.lower()}.csv\")"
   ]
  },
  {
   "cell_type": "code",
   "execution_count": null,
   "id": "3c7c1e7f",
   "metadata": {},
   "outputs": [],
   "source": [
    "# ==== 15 Save model\n",
    "with open(model_path, \"wb\") as f:\n",
    "    pickle.dump(algo, f)"
   ]
  },
  {
   "cell_type": "code",
   "execution_count": null,
   "id": "fc015e76",
   "metadata": {},
   "outputs": [],
   "source": [
    "# Save meta (train universe for inference & filtering)\n",
    "meta = {\n",
    "    \"algo\": ALGO_NAME,\n",
    "    \"trained_utc\": datetime.now(timezone.utc).isoformat(),\n",
    "    \"params\": {\"factors\": FACTORS, \"epochs\": EPOCHS, \"lr_all\": LR_ALL, \"reg_all\": REG_ALL},\n",
    "    \"num_users\": int(train_df.user_id.nunique()),\n",
    "    \"num_items\": int(train_df.yacht_id.nunique()),\n",
    "    \"users\": sorted(str(uid) for uid in train_df.user_id.unique().tolist()),\n",
    "    \"items\": sorted(str(iid) for iid in train_df.yacht_id.unique().tolist()),\n",
    "}\n",
    "with open(meta_path, \"w\") as f:\n",
    "    json.dump(meta, f, indent=2)"
   ]
  },
  {
   "cell_type": "code",
   "execution_count": null,
   "id": "31505d42",
   "metadata": {},
   "outputs": [],
   "source": [
    "# Save metrics\n",
    "all_metrics = {\n",
    "    \"rmse\": rmse,\n",
    "    \"mae\": mae,\n",
    "    \"precision_at_k\": rank_metrics[\"precision_at_k\"],\n",
    "    \"recall_at_k\": rank_metrics[\"recall_at_k\"],\n",
    "    \"ndcg_at_k\": rank_metrics[\"ndcg_at_k\"],\n",
    "    \"users_evaluated\": rank_metrics[\"users_evaluated\"],\n",
    "    \"k\": K_TOP,\n",
    "    \"pos_threshold\": POS_TH,\n",
    "    \"cutoff_date\": CUTOFF or None,\n",
    "    \"test_size\": TEST_SIZE if not CUTOFF else None,\n",
    "}\n",
    "with open(metrics_path, \"w\") as f:\n",
    "    json.dump(all_metrics, f, indent=2)"
   ]
  },
  {
   "cell_type": "code",
   "execution_count": null,
   "id": "35f135f9",
   "metadata": {
    "lines_to_next_cell": 1
   },
   "outputs": [],
   "source": [
    "print(f\"[OK] Saved model → {model_path}\")\n",
    "print(f\"[OK] Saved meta  → {meta_path}\")\n",
    "print(f\"[OK] Saved metrics → {metrics_path}\")"
   ]
  },
  {
   "cell_type": "code",
   "execution_count": 40,
   "id": "5ccc6afe",
   "metadata": {
    "lines_to_next_cell": 1
   },
   "outputs": [],
   "source": [
    "# ==== 16 Generate sample top-N for first N users (for QA / quick sanity check)\n",
    "def recommend_for_user(user_id: str, limit=10):\n",
    "    # candidate universe = items seen in train\n",
    "    item_set = set(train_df[\"yacht_id\"].unique())\n",
    "    # filter out items seen by user in train to avoid echo\n",
    "    try:\n",
    "        seen = set(train_df[train_df.user_id == user_id][\"yacht_id\"].unique())\n",
    "    except KeyError:\n",
    "        seen = set()\n",
    "    candidates = list(item_set - seen)\n",
    "    if not candidates:\n",
    "        return []\n",
    "    est = [(iid, algo.predict(user_id, iid).est) for iid in candidates]\n",
    "    est.sort(key=lambda x: x[1], reverse=True)\n",
    "    return [iid for iid,_ in est[:limit]]"
   ]
  },
  {
   "cell_type": "code",
   "execution_count": 41,
   "id": "7fa3d16e",
   "metadata": {},
   "outputs": [
    {
     "data": {
      "text/html": [
       "<div>\n",
       "<style scoped>\n",
       "    .dataframe tbody tr th:only-of-type {\n",
       "        vertical-align: middle;\n",
       "    }\n",
       "\n",
       "    .dataframe tbody tr th {\n",
       "        vertical-align: top;\n",
       "    }\n",
       "\n",
       "    .dataframe thead th {\n",
       "        text-align: right;\n",
       "    }\n",
       "</style>\n",
       "<table border=\"1\" class=\"dataframe\">\n",
       "  <thead>\n",
       "    <tr style=\"text-align: right;\">\n",
       "      <th></th>\n",
       "      <th>user_id</th>\n",
       "      <th>top10</th>\n",
       "      <th>explanation_first</th>\n",
       "    </tr>\n",
       "  </thead>\n",
       "  <tbody>\n",
       "    <tr>\n",
       "      <th>0</th>\n",
       "      <td>a51e935b-aead-4240-963a-a6d2c1d357fb</td>\n",
       "      <td>bfd96438-e780-4de7-b302-ab36031de9cf,11801fa1-...</td>\n",
       "      <td>{\"similar_liked\": [[\"d5bad0f1-27fe-448f-9ed8-1...</td>\n",
       "    </tr>\n",
       "    <tr>\n",
       "      <th>1</th>\n",
       "      <td>4111cbd5-9b7c-463c-8296-dcbfc7c61f8a</td>\n",
       "      <td>5b549d30-6e16-4e78-b0f8-5a6992bd53c6,0d746270-...</td>\n",
       "      <td>{\"similar_liked\": [[\"c3fd7690-25ea-4697-a26a-3...</td>\n",
       "    </tr>\n",
       "    <tr>\n",
       "      <th>2</th>\n",
       "      <td>35d7b622-eb0e-4cd2-bfe1-24a52fa0a3b8</td>\n",
       "      <td>ba4e1f53-c624-47d8-af19-a2c9f278fff4,fdf36ea6-...</td>\n",
       "      <td>{\"similar_liked\": [[\"9504e930-818a-4f1b-85af-e...</td>\n",
       "    </tr>\n",
       "    <tr>\n",
       "      <th>3</th>\n",
       "      <td>b4712c9a-1b82-4598-a178-572c7b14957e</td>\n",
       "      <td>5b549d30-6e16-4e78-b0f8-5a6992bd53c6,6acfca25-...</td>\n",
       "      <td>{\"note\": \"no liked items in train\"}</td>\n",
       "    </tr>\n",
       "    <tr>\n",
       "      <th>4</th>\n",
       "      <td>501716f9-9987-46dd-be64-4b3570d97cee</td>\n",
       "      <td>e5f54931-d974-4436-8fab-a381a9a0ab44,d915adc0-...</td>\n",
       "      <td>{\"note\": \"no liked items in train\"}</td>\n",
       "    </tr>\n",
       "  </tbody>\n",
       "</table>\n",
       "</div>"
      ],
      "text/plain": [
       "                                user_id  ...                                  explanation_first\n",
       "0  a51e935b-aead-4240-963a-a6d2c1d357fb  ...  {\"similar_liked\": [[\"d5bad0f1-27fe-448f-9ed8-1...\n",
       "1  4111cbd5-9b7c-463c-8296-dcbfc7c61f8a  ...  {\"similar_liked\": [[\"c3fd7690-25ea-4697-a26a-3...\n",
       "2  35d7b622-eb0e-4cd2-bfe1-24a52fa0a3b8  ...  {\"similar_liked\": [[\"9504e930-818a-4f1b-85af-e...\n",
       "3  b4712c9a-1b82-4598-a178-572c7b14957e  ...                {\"note\": \"no liked items in train\"}\n",
       "4  501716f9-9987-46dd-be64-4b3570d97cee  ...                {\"note\": \"no liked items in train\"}\n",
       "\n",
       "[5 rows x 3 columns]"
      ]
     },
     "execution_count": 41,
     "metadata": {},
     "output_type": "execute_result"
    }
   ],
   "source": [
    "sample_users = train_df[\"user_id\"].drop_duplicates().head(20).tolist()\n",
    "rows = []\n",
    "for u in sample_users:\n",
    "    top10 = recommend_for_user(u, limit=10)\n",
    "    # add a tiny explanation for the first item\n",
    "    exp = explain_reco(u, top10[0]) if top10 else {}\n",
    "    rows.append({\n",
    "        \"user_id\": u,\n",
    "        \"top10\": \",\".join(top10),\n",
    "        \"explanation_first\": json.dumps(exp)\n",
    "    })\n",
    "reco=pd.DataFrame(rows)\n",
    "reco.head()\n"
   ]
  },
  {
   "cell_type": "code",
   "execution_count": null,
   "id": "c86f48cd-29da-400e-ab99-1f8ad4559a46",
   "metadata": {},
   "outputs": [],
   "source": [
    "reco.to_csv(samples_path, index=False)\n",
    "print(f\"[OK] Saved sample recommendations → {samples_path}\")"
   ]
  },
  {
   "cell_type": "markdown",
   "id": "06d107eb",
   "metadata": {},
   "source": [
    "-----------------------------\n",
    "--- STORE RECOMMENDATIONS IN DB ---------\n",
    "-----------------------------\n",
    "==== Save per-user recommendations into users.recommendations (uuid[]) ========="
   ]
  },
  {
   "cell_type": "code",
   "execution_count": 42,
   "id": "ba0ccb58",
   "metadata": {},
   "outputs": [],
   "source": [
    "CANDIDATES_N = 30\n",
    "BUSINESS_LIMIT = 12\n",
    "BUSINESS_STRATEGY = \"high_price_then_sort_by_rating\""
   ]
  },
  {
   "cell_type": "code",
   "execution_count": 43,
   "id": "c0479cd4",
   "metadata": {},
   "outputs": [],
   "source": [
    "ITEM_UNIVERSE = set(train_df[\"yacht_id\"].unique())\n",
    "SEEN_BY_USER = train_df.groupby(\"user_id\")[\"yacht_id\"].apply(set).to_dict()"
   ]
  },
  {
   "cell_type": "code",
   "execution_count": 44,
   "id": "3abadf04",
   "metadata": {
    "lines_to_next_cell": 2
   },
   "outputs": [],
   "source": [
    "# ==== 17 Ensure column exists (uuid[])\n",
    "with engine.begin() as conn:\n",
    "    conn.execute(text(\"\"\"\n",
    "    ALTER TABLE users\n",
    "    ADD COLUMN IF NOT EXISTS \"recommendations\" uuid[];\n",
    "    \"\"\"))"
   ]
  },
  {
   "cell_type": "code",
   "execution_count": 45,
   "id": "3d52af5f",
   "metadata": {},
   "outputs": [],
   "source": [
    "HYDRATE_SQL = text(\"\"\"\n",
    "  SELECT id, \"summerLowSeasonPrice\" AS price, rating\n",
    "  FROM yachts\n",
    "  WHERE id IN (SELECT UNNEST(CAST(:ids AS uuid[])))\n",
    "\"\"\")"
   ]
  },
  {
   "cell_type": "code",
   "execution_count": 46,
   "id": "83190265",
   "metadata": {
    "lines_to_next_cell": 1
   },
   "outputs": [],
   "source": [
    "# We pass a Python list of (string) UUIDs, cast to uuid[] safely via UNNEST → array_agg\n",
    "UPDATE_USER_RECS = text(\"\"\"\n",
    "  UPDATE users\n",
    "  SET \"recommendations\" = :yacht_ids\n",
    "  WHERE id = :user_id\n",
    "\"\"\").bindparams(\n",
    "    bindparam(\"yacht_ids\", type_=ARRAY(UUID)),\n",
    "    bindparam(\"user_id\",   type_=UUID),\n",
    ")"
   ]
  },
  {
   "cell_type": "code",
   "execution_count": 47,
   "id": "1c79c1c9",
   "metadata": {},
   "outputs": [],
   "source": [
    "# ==== 18 create helpers\n",
    "def recommend_ids_for_user(user_id: str, limit=CANDIDATES_N):\n",
    "    \"\"\"Top-N candidate yacht IDs for a user (excluding items seen in train).\"\"\"\n",
    "    candidates = list(ITEM_UNIVERSE - SEEN_BY_USER.get(user_id, set()))\n",
    "    if not candidates:\n",
    "        return []\n",
    "    est = [(iid, algo.predict(user_id, iid).est) for iid in candidates]\n",
    "    est.sort(key=lambda x: x[1], reverse=True)\n",
    "    return [iid for iid, _ in est[:limit]]"
   ]
  },
  {
   "cell_type": "code",
   "execution_count": 48,
   "id": "38f20c8f",
   "metadata": {
    "lines_to_next_cell": 1
   },
   "outputs": [],
   "source": [
    "def hydrate_yachts(ids):\n",
    "    \"\"\"Fetch price/rating for given yacht IDs preserving the input order.\"\"\"\n",
    "    if not ids:\n",
    "        return pd.DataFrame(columns=[\"id\",\"price\",\"rating\"])\n",
    "    df = pd.read_sql(HYDRATE_SQL, engine, params={\"ids\": ids})\n",
    "    order = {yid: i for i, yid in enumerate(ids)}\n",
    "    df[\"__ord\"] = df[\"id\"].map(order)\n",
    "    return df.sort_values(\"__ord\").drop(columns=\"__ord\")"
   ]
  },
  {
   "cell_type": "code",
   "execution_count": 49,
   "id": "9cba5eec",
   "metadata": {},
   "outputs": [],
   "source": [
    "def business_select_and_sort(df_y):\n",
    "    \"\"\"Pick 12 highest-price, then sort for return by rating desc (tie: price desc).\"\"\"\n",
    "    if df_y.empty:\n",
    "        return []\n",
    "    top_by_price = df_y.sort_values(\"price\", ascending=False).head(BUSINESS_LIMIT)\n",
    "    top_by_price[\"rating\"] = pd.to_numeric(top_by_price[\"rating\"], errors=\"coerce\")\n",
    "    top_by_price[\"__r\"] = top_by_price[\"rating\"].fillna(-1)\n",
    "    final_sorted = top_by_price.sort_values([\"__r\",\"price\"], ascending=[False, False]).drop(columns=\"__r\")\n",
    "    return final_sorted[\"id\"].tolist()"
   ]
  },
  {
   "cell_type": "code",
   "execution_count": 50,
   "id": "76d5910b",
   "metadata": {},
   "outputs": [
    {
     "name": "stdout",
     "output_type": "stream",
     "text": [
      "[INFO] Generating & saving recommendations into users.recommendations for 101 users...\n"
     ]
    }
   ],
   "source": [
    "# ==== 18 Generate & save for all users from train (you can filter to \"active\" users if needed)\n",
    "all_users = sorted(train_df[\"user_id\"].unique().tolist())\n",
    "print(f\"[INFO] Generating & saving recommendations into users.recommendations for {len(all_users)} users...\")"
   ]
  },
  {
   "cell_type": "code",
   "execution_count": 52,
   "id": "02dce178-9aad-4cf6-9f78-4ccb5df15773",
   "metadata": {},
   "outputs": [
    {
     "name": "stdout",
     "output_type": "stream",
     "text": [
      "['0176a5a3-e4de-4365-a131-b62f095d7e8a', '0670dada-5602-449f-95a2-92d24c2c750a', '069c4703-54f3-4d21-8ef3-d542ca1872ae', '0d25cda9-ffd9-411e-ac9a-79a6f444a4f8', '0e14d57d-bfb1-4523-91ef-989dbbb4cc76', '0eeb1f59-3484-4c4e-9cf6-42e5e877838f', '13bdccb1-5e27-423d-bb7a-c85fcca7d484', '1a28c2df-b208-437e-8512-3c1c8210f6ef', '1a4f43f7-52e8-456d-8a96-34b704ba7eb6', '1a92aaef-67df-432c-aa50-bcac443c5472', '1c63e1f1-8b23-4bc2-8792-c5281d0e1be8', '1d7dbee7-2c6c-4d6a-b36c-4dc50a14b120', '23f09fda-ccba-4081-a482-b3d4d3e2d217', '24e79705-1038-4d6f-b4ad-cda02fd6e3da', '258d3174-d971-4692-98d1-d3b762d0b74b', '29a07150-9e6c-47c4-bb81-ed100d104a0b', '2a8b07cc-bb88-4c28-92e7-b1fcf7bcaae7', '304d7f41-c837-43bc-af43-0c554cef88f1', '35d7b622-eb0e-4cd2-bfe1-24a52fa0a3b8', '38d4b4c9-351f-483c-8771-5320693561bb', '4111cbd5-9b7c-463c-8296-dcbfc7c61f8a', '4150a63e-ab37-4f8a-82ef-97aa373888ec', '4352660e-2f10-4b84-beb2-bcdfd55fb651', '44c2b365-9c8f-4957-9d11-262da0624b72', '46d3c254-347e-439c-b08e-9d772d67f3f9', '4735cfcf-4a51-4464-9511-1ab6c9410a3b', '4a232cf1-dec2-42e1-a444-263cf49dd8a5', '4ad6fbcc-8206-430a-9f44-64c6d1bd023c', '4b1d026f-1653-481d-8c8d-920b11a4ba93', '501716f9-9987-46dd-be64-4b3570d97cee', '55455ad3-c08a-422d-a789-a38cd1ec8244', '58cf9852-72f5-4d18-a3e4-794b7873c66a', '5a68ab30-231b-48b4-bfd6-f6445328c772', '5bf3a488-3e5a-4260-b3a0-7419caa58876', '5c5a1073-e02b-4c7e-91d1-cd19ffd67d8b', '61c44bd8-f213-419f-8b36-bf183de7d9b4', '6274e247-6a5e-4e20-ab8f-49fe75b13167', '62bdf24e-7605-4ee5-afaa-4e95da62e565', '66323108-49bd-466b-9b2c-cbc65b780a0f', '6770552a-6c09-48c3-b82b-7c34b4fdcaec', '6cf55c80-2649-425d-a189-26e9bf9875c7', '6dcff422-f485-4547-b11e-e1d58fcf018e', '72cf155c-1893-405c-ae67-e790f11bccf3', '7359acb5-4df6-4b8e-99f7-7c96c9802445', '76be6148-da4b-4bac-81a7-a3511c34313e', '79f4c96e-fe00-4106-b7a9-db47fa579bd8', '7a7a4a29-392f-4509-b17c-040fbaf8381b', '7bdcff05-b9ba-4d40-85be-8e68210c101c', '7e513ab5-4248-4a02-8ff8-0d0e7f276d3f', '821d169b-e37d-4349-8ea9-7a58c5d56625', '82eec298-d3e2-44e4-8e56-ad140c95b848', '84a40fd6-e3f1-4fd2-afc2-157cd9245e63', '8665b3e5-60bb-4dee-9c30-982f9b014ca5', '86c6fd93-6139-4f22-8f4e-a05205f516e5', '8c87a7d8-e15c-49eb-aff8-598e38fa9000', '921efc9f-3145-4112-9015-8e138d80a206', '940af0e2-1991-4a17-a3fc-40a61860b95b', '96bf0d17-1a9a-494a-9d40-0b1cf88a923f', '97e5cff5-4c48-45bd-813e-12993166b7f6', '9c55c602-c3b5-4934-9f01-f7cfcfe79546', '9f18c802-28c1-40e5-a249-0f7f3a7cf483', 'a2c27611-d4b2-4fb1-a84c-c5350112ace2', 'a498359d-a03f-4384-8e66-2ccc58a63fcd', 'a4ec6870-4d9f-406c-a846-82f5fa91bea6', 'a51e935b-aead-4240-963a-a6d2c1d357fb', 'a5b66f93-0e9f-4186-9980-f6e34161f3ae', 'a5fff308-b7e3-4001-84a5-1f7527a62930', 'a6988c4c-8b96-4aec-801e-ac271d3a4ee3', 'a82f3031-9cd8-47e0-adb9-e0943fde6816', 'ab0fc8b0-d009-41b5-838b-c0dbd2f5cf63', 'b435fbe1-abda-46fd-8ee6-509c20915796', 'b4712c9a-1b82-4598-a178-572c7b14957e', 'bc6be947-3d84-435d-90f5-f7a2f4e31752', 'befee4b0-4703-4aa8-957a-505cfc62a5a8', 'c1ad6b57-0e0e-43b0-b958-628bbcee9a48', 'c2a786a5-4c44-49db-90bf-e8688a222fd1', 'c2f396e0-1829-4941-9ca8-3c40de2968d8', 'ca334c44-ffa3-4170-89b8-898eb52a5b03', 'ca41e691-d569-41b6-9792-253a48f00d1e', 'ca585c57-be5d-473e-90e8-f20a8e395f7a', 'ccd19073-5594-42f6-9db5-dd9991b26029', 'd1869e4c-4d88-4efb-8832-616fbdb2bba3', 'd1e74fe8-d0f7-4aec-9636-951e352d074b', 'd306f3a8-96f8-4118-9a80-15585b2cc3ad', 'd5977da5-42c5-4fa2-a44c-55bd047e835d', 'd61e5427-8d33-42df-8941-518276b0f2b8', 'd6ad654a-090c-4a2d-ae4a-96b823891424', 'd765a4bb-2306-4560-aa6e-b362d427d83e', 'deaaecb2-45f3-434a-9a9d-0eda631190d1', 'e01426e5-4912-4247-8e4c-384d222a23b2', 'e0cac677-18ae-4c6e-88c6-8c26db25e623', 'e11c4930-d129-4009-b8f3-09c6c4a3b03c', 'e6eba160-2970-425a-b91c-5ee66cfa852a', 'ea215ba1-6cbc-4ae6-9191-611e284366f4', 'ed0e5a66-141e-4c10-86d9-e447c1569f19', 'f08f5d90-95a9-4377-b052-f260c9f939d6', 'f1883d15-6a2c-4335-a390-c5a9402d04ed', 'f7251b14-96ed-40b7-8960-8dada9af5484', 'fb82c3a9-88d1-4bb6-9083-56fbba551af4', 'fd1295ec-bc30-4332-80bd-0ca1ffcaef28', 'ff8dc54e-6bb4-4014-a730-8fcf1deb92e9']\n"
     ]
    }
   ],
   "source": [
    "print(all_users)"
   ]
  },
  {
   "cell_type": "code",
   "execution_count": 59,
   "id": "bf629ef6-2dde-43ee-9e54-29ae697ea3a0",
   "metadata": {},
   "outputs": [
    {
     "name": "stdout",
     "output_type": "stream",
     "text": [
      "Recommendations: ['dd32a817-168f-4c79-96bc-ed3245158b82', 'bfd96438-e780-4de7-b302-ab36031de9cf', 'c570a588-d0c7-4311-8855-cc46438c54c7', '5b549d30-6e16-4e78-b0f8-5a6992bd53c6', 'e5f54931-d974-4436-8fab-a381a9a0ab44', '908ffa86-06af-4635-8c0c-156ea5c604d1', '6acfca25-05d0-4d0b-b272-572cbc84ecaf', '7bfe55af-70c9-4e29-8e7e-f4886ce3e79f', 'aa7fc898-aeb1-4d87-b03e-bb009c583809', 'fe2b3170-8b9f-4bc4-b34f-c1aedff80f74', 'b94df5cf-fd6e-47c2-b98e-d8fed429de71', 'e1c7f87d-052d-4c83-a29a-92a74b28c6b4', '48d0683d-ae63-4d17-9db8-0c80e0805823', '57ceb956-87e6-4361-a7ce-a7bbedbe497f', '38d8a8e6-924a-48e4-81e0-ff896c97c521', '24414531-03be-4b47-8ebf-41c18f65f32b', 'c3fd7690-25ea-4697-a26a-30230d5fa69e', '49faaf3e-c277-4e3a-88d6-c32352c8d811', '880e1c0e-2cfe-455a-b279-4e7a080e4b96', 'f6a70b5b-2ffa-4cd7-b133-335e587fab8a', '215d8802-eacc-4fed-a850-db38c39a9ed1', 'e110d4e7-aa51-4e73-abd0-f2c3ec5e56f1', '7f1e326b-0ab3-4863-adeb-74f7764cc077', '40b018ea-342a-4d6c-8ec8-f33e4a3e2c17', 'd915adc0-d6a9-405a-a2be-66ad436f4c30', '07862f80-a952-4f38-acfc-1468827e0117', 'd2788256-1235-401a-af55-28e069bea52e', '72427fcd-1a55-4ff0-b919-897b3595f2b6', 'e0616754-a66b-4588-ba89-674abdb979ed', 'd5bad0f1-27fe-448f-9ed8-1db606d400eb']\n",
      "------------------------------------\n",
      "Recommendations: ['4caff3ff-6378-4ca5-984e-40f9c8567d9a', '4501c006-18a8-411c-aeba-d5d1aa03053e', '06fe1704-2dda-435d-940f-30eedc8eb3ca', '072ca427-9cd8-49df-bc20-337914841618', '6acfca25-05d0-4d0b-b272-572cbc84ecaf', 'b94df5cf-fd6e-47c2-b98e-d8fed429de71', 'c3fd7690-25ea-4697-a26a-30230d5fa69e', 'c118b991-0b27-42af-be53-bd34f3a5ef0d', '02d7739c-7037-4a5f-844f-aafa91385efd', '38d8a8e6-924a-48e4-81e0-ff896c97c521', 'e1c7f87d-052d-4c83-a29a-92a74b28c6b4', '365a30eb-68ca-4b85-b1fe-24ed668288e5', 'e5f54931-d974-4436-8fab-a381a9a0ab44', '6367e354-4e57-4ce3-8f24-9fd4b468cca0', '5b549d30-6e16-4e78-b0f8-5a6992bd53c6', '2b13f3d3-9672-4ba5-8ebf-3e3f27845499', '820eae9f-0c6a-4ded-bc12-08a895e6ea37', '0d89b2e6-30fd-4686-b4e9-3a0daef981ff', '24a9387f-8577-4ef8-a925-b3fb89feb890', '0507f52e-f3c9-4682-aedf-640d62f023c7', 'c1fc54fb-7c12-4dec-afe1-c0abde99d61e', '33cf4d67-ed61-4e70-9808-f65bdc697f5e', 'fe2b3170-8b9f-4bc4-b34f-c1aedff80f74', 'f6a70b5b-2ffa-4cd7-b133-335e587fab8a', 'ee4a2b68-338a-480a-8e74-9bec346ee446', '2c625522-393a-4efc-ac72-548e72e44d06', '4b93bdd6-cc14-4f59-a4c8-5807db11af79', 'fdf36ea6-fee7-4c99-955e-701e129bb59d', '11801fa1-0ecf-429d-8664-92f32bf1d6f6', '0d746270-dd2f-4a7d-99a4-4f7a8268a25e']\n",
      "------------------------------------\n",
      "Recommendations: ['48d0683d-ae63-4d17-9db8-0c80e0805823', '24414531-03be-4b47-8ebf-41c18f65f32b', '02d7739c-7037-4a5f-844f-aafa91385efd', '543051c0-5bf3-4783-9c6c-4f38253499c9', 'd915adc0-d6a9-405a-a2be-66ad436f4c30', 'c118b991-0b27-42af-be53-bd34f3a5ef0d', 'ddf8f0c8-f1a1-4ed3-b6d7-20761343080a', '0d746270-dd2f-4a7d-99a4-4f7a8268a25e', '072ca427-9cd8-49df-bc20-337914841618', '0507f52e-f3c9-4682-aedf-640d62f023c7', 'e4100046-558b-4920-b8a5-969d4161e29c', '79e6e051-ac99-4b70-aa15-22562973ffbd', '4caff3ff-6378-4ca5-984e-40f9c8567d9a', '06fe1704-2dda-435d-940f-30eedc8eb3ca', '5b549d30-6e16-4e78-b0f8-5a6992bd53c6', 'a1488378-968c-4cd6-be8c-e2ffff65c677', '062b62f3-55b1-44fb-b709-e2a628193802', '83dff4cb-1d58-4536-9c30-f4ac4f695bff', '07862f80-a952-4f38-acfc-1468827e0117', '5740a809-5ff2-41c7-bee7-3f5eed723790', 'b94df5cf-fd6e-47c2-b98e-d8fed429de71', '0682c013-52ee-455b-b033-d9725e79d05e', 'da68f7b1-19fd-445e-9425-ea8beb8d5c42', '44836140-a110-43bc-9df2-79afca47ec08', '6acfca25-05d0-4d0b-b272-572cbc84ecaf', 'dd32a817-168f-4c79-96bc-ed3245158b82', '7f1e326b-0ab3-4863-adeb-74f7764cc077', '0d89b2e6-30fd-4686-b4e9-3a0daef981ff', 'f18fb4a2-4b78-44ac-8a4a-e56d6c443798', 'b0564f97-6e12-4b39-b82d-40f10d5ba928']\n",
      "------------------------------------\n",
      "Recommendations: ['d5bad0f1-27fe-448f-9ed8-1db606d400eb', '49faaf3e-c277-4e3a-88d6-c32352c8d811', '90d38f0e-01ae-4b6a-9eef-2d70a73747bc', 'c570a588-d0c7-4311-8855-cc46438c54c7', '0507f52e-f3c9-4682-aedf-640d62f023c7', '72427fcd-1a55-4ff0-b919-897b3595f2b6', 'bdbd8572-a83b-4999-9429-6d91b27ac712', '82864bba-0ace-49a9-a31c-2e6572022adb', '908ffa86-06af-4635-8c0c-156ea5c604d1', '9504e930-818a-4f1b-85af-e6419ab6a193', '6acfca25-05d0-4d0b-b272-572cbc84ecaf', '2c625522-393a-4efc-ac72-548e72e44d06', '0d19863c-2245-44f4-9834-2fd0b17dd335', '7f5bb3e7-1e23-4c5f-afe0-8478ee927976', '11801fa1-0ecf-429d-8664-92f32bf1d6f6', 'd2788256-1235-401a-af55-28e069bea52e', '79e6e051-ac99-4b70-aa15-22562973ffbd', '48d0683d-ae63-4d17-9db8-0c80e0805823', 'd414b823-9f1d-41d1-a717-40c8a5191aa9', '072ca427-9cd8-49df-bc20-337914841618', 'e7352b52-7eb0-4176-99f4-ac052490e3b3', 'a8f3268e-a300-47b4-ae37-419cb9c1a27e', '1a49d2c9-10fe-41d3-ae98-66eab4b1d00d', '2b13f3d3-9672-4ba5-8ebf-3e3f27845499', '365a30eb-68ca-4b85-b1fe-24ed668288e5', '7033bc1b-4b79-480c-b90f-99da6f39a4dd', '5740a809-5ff2-41c7-bee7-3f5eed723790', 'c1fc54fb-7c12-4dec-afe1-c0abde99d61e', 'bfd96438-e780-4de7-b302-ab36031de9cf', 'b94df5cf-fd6e-47c2-b98e-d8fed429de71']\n",
      "------------------------------------\n",
      "Recommendations: ['38d8a8e6-924a-48e4-81e0-ff896c97c521', 'ddf8f0c8-f1a1-4ed3-b6d7-20761343080a', '6acfca25-05d0-4d0b-b272-572cbc84ecaf', '79e6e051-ac99-4b70-aa15-22562973ffbd', '2e71b81b-cfa5-47a5-909c-a205d340ce01', 'f6a70b5b-2ffa-4cd7-b133-335e587fab8a', '908ffa86-06af-4635-8c0c-156ea5c604d1', 'a8f3268e-a300-47b4-ae37-419cb9c1a27e', '0682c013-52ee-455b-b033-d9725e79d05e', '02d7739c-7037-4a5f-844f-aafa91385efd', '7f5bb3e7-1e23-4c5f-afe0-8478ee927976', '8c113e48-36bc-4f56-a368-78f0b9411102', '67ea0585-0b7a-4261-b06c-d8aa43b1c2e3', '2b13f3d3-9672-4ba5-8ebf-3e3f27845499', 'd2788256-1235-401a-af55-28e069bea52e', '48d0683d-ae63-4d17-9db8-0c80e0805823', '062b62f3-55b1-44fb-b709-e2a628193802', '3ab68ce1-ef19-4e16-a24b-484b14d6e47e', 'bdbd8572-a83b-4999-9429-6d91b27ac712', '0507f52e-f3c9-4682-aedf-640d62f023c7', '4355937b-48a9-460c-9b33-bfacb72e816f', 'b248abac-2a62-4dde-b035-72e923561f08', '07862f80-a952-4f38-acfc-1468827e0117', 'd234b24e-1b2b-41bf-a482-95c1bd6e7c92', 'c118b991-0b27-42af-be53-bd34f3a5ef0d', 'f554a540-b563-4057-9ff8-ebd4cf7bee4a', '24414531-03be-4b47-8ebf-41c18f65f32b', 'a591030b-a1cc-4fec-8a71-1ea34f1abfa8', 'e4100046-558b-4920-b8a5-969d4161e29c', 'd915adc0-d6a9-405a-a2be-66ad436f4c30']\n",
      "------------------------------------\n"
     ]
    }
   ],
   "source": [
    "\n",
    "# test\n",
    "for user_id in all_users[:5]:\n",
    "    cand_ids = recommend_ids_for_user(user_id, limit=CANDIDATES_N)\n",
    "    print(\"Recommendations:\", cand_ids )\n",
    "    print(\"------------------------------------\")"
   ]
  },
  {
   "cell_type": "code",
   "execution_count": null,
   "id": "8dada9ab",
   "metadata": {},
   "outputs": [],
   "source": [
    "processed = 0\n",
    "for user_id in all_users:\n",
    "    cand_ids = recommend_ids_for_user(user_id, limit=CANDIDATES_N)\n",
    "    if not cand_ids:\n",
    "        continue\n",
    "    ydf = hydrate_yachts(cand_ids)\n",
    "    final_ids = business_select_and_sort(ydf)  # list of yacht UUIDs (as strings)\n",
    "\n",
    "    if not final_ids:\n",
    "        # Optionally set NULL when nothing to recommend:\n",
    "        with engine.begin() as conn:\n",
    "            conn.execute(text('UPDATE users SET \"recommendations\" = NULL WHERE id = :user_id::uuid'),\n",
    "                      {\"user_id\": user_id})\n",
    "        continue\n",
    "\n",
    "    # Write uuid[] array into users.recommendations\n",
    "    with engine.begin() as conn:\n",
    "        conn.execute(UPDATE_USER_RECS, {\"user_id\": user_id, \"yacht_ids\": final_ids})\n",
    "\n",
    "    processed += 1\n",
    "    if processed % 200 == 0:\n",
    "        print(f\"[INFO] processed {processed} users...\")"
   ]
  },
  {
   "cell_type": "code",
   "execution_count": null,
   "id": "d53be45e",
   "metadata": {},
   "outputs": [],
   "source": [
    "print(f\"[OK] Saved recommendations for {processed} users into users.recommendations.\")"
   ]
  }
 ],
 "metadata": {
  "jupytext": {
   "cell_metadata_filter": "-all",
   "main_language": "python",
   "notebook_metadata_filter": "-all"
  },
  "kernelspec": {
   "display_name": "Python 3 (Spyder)",
   "language": "python3",
   "name": "python3"
  },
  "language_info": {
   "codemirror_mode": {
    "name": "ipython",
    "version": 3
   },
   "file_extension": ".py",
   "mimetype": "text/x-python",
   "name": "python",
   "nbconvert_exporter": "python",
   "pygments_lexer": "ipython3",
   "version": "3.12.5"
  }
 },
 "nbformat": 4,
 "nbformat_minor": 5
}
